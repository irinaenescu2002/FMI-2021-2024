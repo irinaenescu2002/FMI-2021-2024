{
 "cells": [
  {
   "cell_type": "code",
   "execution_count": 8,
   "id": "8f039172",
   "metadata": {},
   "outputs": [],
   "source": [
    "# 1. Prima mea pacanea\n",
    "\n",
    "# returneaza un nr intreg la intamplare: numpy.random.randint\n",
    "# returneaza o extragere dintr-un array: numpy.random.choice \n",
    "\n",
    "import numpy as np\n",
    "def a_doua_mea_pacanea(valori, probabilitati, numar_de_observatii):\n",
    "    return np.random.choice(a=valori, p=probabilitati, replace=True, size=numar_de_observatii)\n"
   ]
  },
  {
   "cell_type": "code",
   "execution_count": 4,
   "id": "5699e5f2",
   "metadata": {},
   "outputs": [
    {
     "data": {
      "text/plain": [
       "array([1, 0, 0, 0, 0, 1, 1, 1, 1, 1, 1, 1, 1, 0, 1, 1, 0, 1, 0, 1])"
      ]
     },
     "execution_count": 4,
     "metadata": {},
     "output_type": "execute_result"
    }
   ],
   "source": [
    "valori = [1, 0]\n",
    "probabilitati = [1/2, 1/2]\n",
    "a_doua_mea_pacanea(valori, probabilitati, 20)"
   ]
  },
  {
   "cell_type": "code",
   "execution_count": null,
   "id": "7bb953b5",
   "metadata": {},
   "outputs": [],
   "source": [
    "# 2. Desenam grafic\n",
    "\n",
    "# matplotlib -> face grafice in python \n",
    "\n",
    "import matplotlib.pyplot as plt\n",
    "def fa_mi_un_grafic(valori, probabilitati, de_interes, no_iteratii=100):\n",
    "    grafic = []\n",
    "    for i in range(no_iteratii):\n",
    "        observatii = a_doua_mea_pacanea(valori, probabilitati, i*10+1)\n",
    "        observatii_de_interes = [obs for obs in observatii if obs == de_interes]\n",
    "        proba = len(observatii_de_interes)/len(observatii)\n",
    "        grafic.append(proba)\n",
    "    return grafic \n"
   ]
  },
  {
   "cell_type": "code",
   "execution_count": 11,
   "id": "aee1274d",
   "metadata": {},
   "outputs": [
    {
     "data": {
      "text/plain": [
       "[<matplotlib.lines.Line2D at 0x274295cea60>]"
      ]
     },
     "execution_count": 11,
     "metadata": {},
     "output_type": "execute_result"
    },
    {
     "data": {
      "image/png": "[encoded data removed]",
      "text/plain": [
       "<Figure size 432x288 with 1 Axes>"
      ]
     },
     "metadata": {
      "needs_background": "light"
     },
     "output_type": "display_data"
    }
   ],
   "source": [
    "valori = [1, 0]\n",
    "probabilitati = [1/2, 1/2]\n",
    "grafic = fa_mi_un_grafic(valori, probabilitati, 0, 50)\n",
    "plt.plot(grafic)"
   ]
  },
  {
   "cell_type": "code",
   "execution_count": 26,
   "id": "397c1fa7",
   "metadata": {},
   "outputs": [],
   "source": [
    "# 3. Dam cu doua zaruri. Care e prob ca suma sa fie mai mare decat 7? \n",
    "\n",
    "def primul_meu_joc_de_noroc(no_obs):\n",
    "    def perechea():\n",
    "        z1 = np.random.randint(low=1, high=7)\n",
    "        z2 =  np.random.randint(low=1, high=7)\n",
    "        return (z1, z2)\n",
    "    counter = 0\n",
    "    for i in range(no_obs):\n",
    "        z1, z2 = perechea()\n",
    "        if (z1+z2) > 7:\n",
    "            counter += 1\n",
    "    probabilitate = counter/no_obs\n",
    "    print(probabilitate)\n",
    "    return probabilitate\n"
   ]
  },
  {
   "cell_type": "code",
   "execution_count": 27,
   "id": "e7feca08",
   "metadata": {},
   "outputs": [
    {
     "name": "stdout",
     "output_type": "stream",
     "text": [
      "0.418\n"
     ]
    },
    {
     "data": {
      "text/plain": [
       "0.418"
      ]
     },
     "execution_count": 27,
     "metadata": {},
     "output_type": "execute_result"
    }
   ],
   "source": [
    "primul_meu_joc_de_noroc(1000)"
   ]
  },
  {
   "cell_type": "code",
   "execution_count": 31,
   "id": "31a699ff",
   "metadata": {},
   "outputs": [],
   "source": [
    "# Dam cu doua zaruri. Stiind ca primul numar este par, care e suma lor sa fie divizibila cu 3?\n",
    "\n",
    "def al_doilea_joc_de_noroc(no_obs):\n",
    "    def perechea():\n",
    "        z1 = np.random.choice(a=[2, 4, 6], replace=True)\n",
    "        z2 =  np.random.randint(low=1, high=7)\n",
    "        return (z1, z2)\n",
    "    counter = 0\n",
    "    for i in range(no_obs):\n",
    "        z1, z2 = perechea()\n",
    "        if (z1+z2) % 3 == 0:\n",
    "            counter += 1\n",
    "    probabilitate = counter/no_obs\n",
    "    print(probabilitate)\n",
    "    return probabilitate"
   ]
  },
  {
   "cell_type": "code",
   "execution_count": 32,
   "id": "3ae47dd3",
   "metadata": {},
   "outputs": [
    {
     "name": "stdout",
     "output_type": "stream",
     "text": [
      "0.328\n"
     ]
    },
    {
     "data": {
      "text/plain": [
       "0.328"
      ]
     },
     "execution_count": 32,
     "metadata": {},
     "output_type": "execute_result"
    }
   ],
   "source": [
    "al_doilea_joc_de_noroc(1000)"
   ]
  },
  {
   "cell_type": "code",
   "execution_count": 33,
   "id": "8fc7fdb3",
   "metadata": {},
   "outputs": [],
   "source": [
    "# 4. Dam cu banul de n ori, care e prob sa avem fix cinci c?\n",
    "# 1 -> c\n",
    "# 0 -> p\n",
    "\n",
    "# count_nonzero -> cate valori nenule avem \n",
    "\n",
    "def banu(nr_aruncari, nr_incercari):\n",
    "    def aruncare(nr_aruncari):\n",
    "        return np.random.randint(low=0, high=2, size=nr_aruncari)\n",
    "    counter = 0\n",
    "    for incercare in range(nr_incercari):\n",
    "        rezultat = aruncare(nr_aruncari)\n",
    "        if np.count_nonzero(rezultat == 1) == 5:\n",
    "            counter += 1\n",
    "    prob = counter/nr_incercari\n",
    "    return prob\n",
    "        "
   ]
  },
  {
   "cell_type": "code",
   "execution_count": 43,
   "id": "c00f8ea7",
   "metadata": {},
   "outputs": [
    {
     "data": {
      "text/plain": [
       "0.0001"
      ]
     },
     "execution_count": 43,
     "metadata": {},
     "output_type": "execute_result"
    }
   ],
   "source": [
    "banu(20, 10000)"
   ]
  },
  {
   "cell_type": "code",
   "execution_count": 44,
   "id": "1fc59dbc",
   "metadata": {},
   "outputs": [],
   "source": [
    "# 5. Aruncam trei zaruri. Stiind ca al doilea este impar si primul mai mic sau egal cu 5, care e probabilitatea \n",
    "# ca suma celor trei sa fie mai mica decat 10?\n",
    "\n",
    "def al_treilea_joc_de_noroc(no_obs):\n",
    "    def perechea():\n",
    "        z1 = np.random.choice(a=[1, 2, 3, 4, 5], replace=True)\n",
    "        z2 = np.random.choice(a=[1, 3, 5], replace=True)\n",
    "        z3 =  np.random.randint(low=1, high=7)\n",
    "        return (z1, z2, z3)\n",
    "    counter = 0\n",
    "    for i in range(no_obs):\n",
    "        z1, z2, z3 = perechea()\n",
    "        if (z1+z2+z3) < 10:\n",
    "            counter += 1\n",
    "    probabilitate = counter/no_obs\n",
    "    print(probabilitate)\n",
    "    return probabilitate"
   ]
  },
  {
   "cell_type": "code",
   "execution_count": 52,
   "id": "0a1f2e99",
   "metadata": {},
   "outputs": [
    {
     "name": "stdout",
     "output_type": "stream",
     "text": [
      "0.5031\n"
     ]
    },
    {
     "data": {
      "text/plain": [
       "0.5031"
      ]
     },
     "execution_count": 52,
     "metadata": {},
     "output_type": "execute_result"
    }
   ],
   "source": [
    "al_treilea_joc_de_noroc(10000)"
   ]
  },
  {
   "cell_type": "code",
   "execution_count": null,
   "id": "150d563a",
   "metadata": {},
   "outputs": [],
   "source": []
  }
 ],
 "metadata": {
  "kernelspec": {
   "display_name": "Python 3 (ipykernel)",
   "language": "python",
   "name": "python3"
  },
  "language_info": {
   "codemirror_mode": {
    "name": "ipython",
    "version": 3
   },
   "file_extension": ".py",
   "mimetype": "text/x-python",
   "name": "python",
   "nbconvert_exporter": "python",
   "pygments_lexer": "ipython3",
   "version": "3.9.12"
  }
 },
 "nbformat": 4,
 "nbformat_minor": 5
}
