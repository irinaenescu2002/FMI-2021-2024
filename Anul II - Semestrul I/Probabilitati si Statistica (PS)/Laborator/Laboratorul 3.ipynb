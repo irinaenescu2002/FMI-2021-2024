{
 "cells": [
  {
   "cell_type": "code",
   "execution_count": 3,
   "id": "95ad4e2f",
   "metadata": {},
   "outputs": [
    {
     "data": {
      "text/plain": [
       "1"
      ]
     },
     "execution_count": 3,
     "metadata": {},
     "output_type": "execute_result"
    }
   ],
   "source": [
    "import numpy as np\n",
    "def exemplu_simulatorul(p):\n",
    "    extragere = np.random.uniform()\n",
    "    if extragere < p:\n",
    "        return 0\n",
    "    return 1\n",
    "\n",
    "exemplu_simulatorul(0.2)"
   ]
  },
  {
   "cell_type": "code",
   "execution_count": 4,
   "id": "fd72df28",
   "metadata": {},
   "outputs": [],
   "source": [
    "# O familie face doi copii.\n",
    "\n",
    "def fa_copil(p_fata):\n",
    "    return int(np.random.uniform() > p_fata)\n",
    "\n",
    "# a. Stiind ca primul e fata, care e prob ca al doilea sa fie fata?\n",
    "\n",
    "def simuleaza_experiment_a(p_fata, nr_iteratii):\n",
    "    incercari_favorabile = 0\n",
    "    incercari = 0\n",
    "    for i in range(nr_iteratii):\n",
    "        c1 = fa_copil(p_fata)\n",
    "        c2 = fa_copil(p_fata)\n",
    "        if c1:\n",
    "            incercari += 1\n",
    "            if c2:\n",
    "                incercari_favorabile += 1\n",
    "    return incercari_favorabile/incercari\n",
    "\n",
    "\n",
    "# b. Stiind ca cel putin unul este fata, care e prob ca ambii sa fie fete?\n",
    "\n",
    "def simuleaza_experiment_b(p_fata, nr_iteratii):\n",
    "    incercari_favorabile = 0\n",
    "    incercari = 0\n",
    "    for i in range(nr_iteratii):\n",
    "        c1 = fa_copil(p_fata)\n",
    "        c2 = fa_copil(p_fata)\n",
    "        if c1 or c2:\n",
    "            incercari += 1\n",
    "            if c1 and c2:\n",
    "                incercari_favorabile += 1\n",
    "    return incercari_favorabile/incercari"
   ]
  },
  {
   "cell_type": "code",
   "execution_count": 5,
   "id": "3385ffd8",
   "metadata": {},
   "outputs": [
    {
     "data": {
      "text/plain": [
       "0.5217391304347826"
      ]
     },
     "execution_count": 5,
     "metadata": {},
     "output_type": "execute_result"
    }
   ],
   "source": [
    "simuleaza_experiment_a(0.5, 1000)"
   ]
  },
  {
   "cell_type": "code",
   "execution_count": 6,
   "id": "30da84d1",
   "metadata": {},
   "outputs": [
    {
     "data": {
      "text/plain": [
       "0.33288770053475936"
      ]
     },
     "execution_count": 6,
     "metadata": {},
     "output_type": "execute_result"
    }
   ],
   "source": [
    "simuleaza_experiment_b(0.5, 1000)"
   ]
  },
  {
   "cell_type": "code",
   "execution_count": 7,
   "id": "9a6cada2",
   "metadata": {},
   "outputs": [],
   "source": [
    "# Problema cu COVID \n",
    "\n",
    "def ia_covid(p_covid):\n",
    "    return np.random.uniform() < p_covid\n",
    "\n",
    "def testeaza_covid(p_pozitiv, p_negativ, covid):\n",
    "    if covid:\n",
    "        return np.random.uniform() < p_pozitiv\n",
    "    return np.random.uniform() < (1 - p_negativ)\n",
    "\n",
    "def simuleaza_testare_covid(p_covid, p_pozitiv, p_negativ, nr_iteratii):\n",
    "    incercari = 0\n",
    "    incercari_favorabile = 0\n",
    "    for i in range(nr_iteratii):\n",
    "        covid = ia_covid(p_covid)\n",
    "        rezultat_test = testeaza_covid(p_pozitiv, p_negativ, covid)\n",
    "        if rezultat_test:\n",
    "            incercari += 1\n",
    "            if covid:\n",
    "                incercari_favorabile += 1\n",
    "    return incercari_favorabile / incercari"
   ]
  },
  {
   "cell_type": "code",
   "execution_count": 9,
   "id": "817350a5",
   "metadata": {},
   "outputs": [
    {
     "data": {
      "text/plain": [
       "0.18544407894736842"
      ]
     },
     "execution_count": 9,
     "metadata": {},
     "output_type": "execute_result"
    }
   ],
   "source": [
    "simuleaza_testare_covid(0.05, .90, .80, 10000)"
   ]
  },
  {
   "cell_type": "code",
   "execution_count": 2,
   "id": "50f491ea",
   "metadata": {},
   "outputs": [],
   "source": [
    "# Problema Mihai si bug-urile\n",
    "\n",
    "import numpy as np\n",
    "\n",
    "def avem_bug(p_bug):\n",
    "    return np.random.uniform() < p_bug\n",
    "\n",
    "def mihai_testeaza(p_identif_corect_cand_am_bug, p_identif_corect_cand_nu_bug, bug):\n",
    "    if bug:\n",
    "        return np.random.uniform() < p_identif_corect_cand_am_bug\n",
    "    return np.random.uniform() < (1 - p_identif_corect_cand_nu_bug)\n",
    "\n",
    "def simuleaza_testare_cod (p_bug, p_identif_corect_cand_am_bug, p_identif_corect_cand_nu_bug, nr_iteratii):\n",
    "    incercari = 0\n",
    "    incercari_favorabile = 0\n",
    "    for i in range(nr_iteratii):\n",
    "        bug = avem_bug(p_bug)\n",
    "        rezultat_test = mihai_testeaza(p_identif_corect_cand_am_bug, p_identif_corect_cand_nu_bug, bug)\n",
    "        if not rezultat_test:\n",
    "            incercari += 1\n",
    "            if bug: \n",
    "                incercari_favorabile += 1\n",
    "    return incercari_favorabile/incercari"
   ]
  },
  {
   "cell_type": "code",
   "execution_count": 7,
   "id": "299b7190",
   "metadata": {},
   "outputs": [
    {
     "data": {
      "text/plain": [
       "0.0025497086047308877"
      ]
     },
     "execution_count": 7,
     "metadata": {},
     "output_type": "execute_result"
    }
   ],
   "source": [
    "simuleaza_testare_cod(0.05, 0.95, 0.98, 100000)"
   ]
  }
 ],
 "metadata": {
  "kernelspec": {
   "display_name": "Python 3 (ipykernel)",
   "language": "python",
   "name": "python3"
  },
  "language_info": {
   "codemirror_mode": {
    "name": "ipython",
    "version": 3
   },
   "file_extension": ".py",
   "mimetype": "text/x-python",
   "name": "python",
   "nbconvert_exporter": "python",
   "pygments_lexer": "ipython3",
   "version": "3.9.12"
  }
 },
 "nbformat": 4,
 "nbformat_minor": 5
}
