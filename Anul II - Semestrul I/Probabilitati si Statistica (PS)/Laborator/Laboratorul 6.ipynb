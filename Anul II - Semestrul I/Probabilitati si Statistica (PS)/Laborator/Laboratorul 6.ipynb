{
 "cells": [
  {
   "cell_type": "code",
   "execution_count": 29,
   "id": "1e34b36d",
   "metadata": {},
   "outputs": [],
   "source": [
    "# Simulam jocul cu Strainul (cel cu 100 de lei)\n",
    "\n",
    "import numpy as np\n",
    "\n",
    "# De cate ori jucam pana la succes? \n",
    "\n",
    "def da_cu_banul(p):\n",
    "    return int(np.random.uniform()<p)\n",
    "\n",
    "def joaca(p):\n",
    "    counter = 0\n",
    "    while not da_cu_banul(p):\n",
    "        counter += 1\n",
    "    return counter + 1\n"
   ]
  },
  {
   "cell_type": "code",
   "execution_count": 18,
   "id": "a335568f",
   "metadata": {},
   "outputs": [
    {
     "data": {
      "text/plain": [
       "0"
      ]
     },
     "execution_count": 18,
     "metadata": {},
     "output_type": "execute_result"
    }
   ],
   "source": [
    "p = 1/2\n",
    "joaca(p)"
   ]
  },
  {
   "cell_type": "code",
   "execution_count": 19,
   "id": "759039fa",
   "metadata": {},
   "outputs": [
    {
     "data": {
      "text/plain": [
       "7"
      ]
     },
     "execution_count": 19,
     "metadata": {},
     "output_type": "execute_result"
    }
   ],
   "source": [
    "p = 0.2\n",
    "joaca(p)"
   ]
  },
  {
   "cell_type": "code",
   "execution_count": 32,
   "id": "fec770cb",
   "metadata": {},
   "outputs": [
    {
     "data": {
      "text/plain": [
       "4.984"
      ]
     },
     "execution_count": 32,
     "metadata": {},
     "output_type": "execute_result"
    }
   ],
   "source": [
    "p = 0.2\n",
    "np.mean([joaca(p) for i in range(1000)])"
   ]
  },
  {
   "cell_type": "code",
   "execution_count": 47,
   "id": "c2de36cd",
   "metadata": {},
   "outputs": [],
   "source": [
    "# De cati bani avem nevoie pana la succes? \n",
    "\n",
    "def joaca_cu_bani(p):\n",
    "    counter = 0\n",
    "    while not da_cu_banul(p):\n",
    "        counter += 1\n",
    "    return (2**counter)*100"
   ]
  },
  {
   "cell_type": "code",
   "execution_count": 39,
   "id": "09aadee4",
   "metadata": {},
   "outputs": [
    {
     "data": {
      "text/plain": [
       "863024079.0"
      ]
     },
     "execution_count": 39,
     "metadata": {},
     "output_type": "execute_result"
    }
   ],
   "source": [
    "p = 0.2\n",
    "np.mean([joaca_cu_bani(p) for i in range(1000)])"
   ]
  },
  {
   "cell_type": "code",
   "execution_count": 60,
   "id": "1189fefe",
   "metadata": {},
   "outputs": [
    {
     "data": {
      "text/plain": [
       "1475.8"
      ]
     },
     "execution_count": 60,
     "metadata": {},
     "output_type": "execute_result"
    }
   ],
   "source": [
    "p = (1/2 + 0.006)\n",
    "np.mean([joaca_cu_bani(p) for i in range(1000)])"
   ]
  },
  {
   "cell_type": "code",
   "execution_count": 64,
   "id": "c040e9f1",
   "metadata": {},
   "outputs": [],
   "source": [
    "def simulam_dungeon_dice(K=20):\n",
    "    realizari = []\n",
    "    x = np.random.choice([1, 2, 3, 4, 5, 6])\n",
    "    realizari.append(x)\n",
    "    while x != 1:\n",
    "        x = np.random.choice([1, 2, 3, 4, 5, 6])\n",
    "        realizari.append(x)\n",
    "    return sum(realizari)        "
   ]
  },
  {
   "cell_type": "code",
   "execution_count": 65,
   "id": "29b6ead6",
   "metadata": {},
   "outputs": [
    {
     "data": {
      "text/plain": [
       "7"
      ]
     },
     "execution_count": 65,
     "metadata": {},
     "output_type": "execute_result"
    }
   ],
   "source": [
    "simulam_dungeon_dice()"
   ]
  },
  {
   "cell_type": "code",
   "execution_count": 76,
   "id": "25b7b225",
   "metadata": {},
   "outputs": [
    {
     "data": {
      "text/plain": [
       "0.0741"
      ]
     },
     "execution_count": 76,
     "metadata": {},
     "output_type": "execute_result"
    }
   ],
   "source": [
    "experiment = []\n",
    "for i in range (10000):\n",
    "    rez = simulam_dungeon_dice()\n",
    "    if rez >= 18 and rez <= 21:\n",
    "        experiment.append(1)\n",
    "    else:\n",
    "        experiment.append(0)\n",
    "sum(experiment)/len(experiment)    "
   ]
  }
 ],
 "metadata": {
  "kernelspec": {
   "display_name": "Python 3 (ipykernel)",
   "language": "python",
   "name": "python3"
  },
  "language_info": {
   "codemirror_mode": {
    "name": "ipython",
    "version": 3
   },
   "file_extension": ".py",
   "mimetype": "text/x-python",
   "name": "python",
   "nbconvert_exporter": "python",
   "pygments_lexer": "ipython3",
   "version": "3.9.12"
  }
 },
 "nbformat": 4,
 "nbformat_minor": 5
}
