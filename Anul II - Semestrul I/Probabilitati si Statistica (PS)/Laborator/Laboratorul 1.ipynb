{
 "cells": [
  {
   "cell_type": "code",
   "execution_count": 2,
   "id": "bea4cc9d",
   "metadata": {},
   "outputs": [],
   "source": [
    "import numpy as np"
   ]
  },
  {
   "cell_type": "code",
   "execution_count": 3,
   "id": "963c2207",
   "metadata": {},
   "outputs": [
    {
     "data": {
      "text/plain": [
       "array([1, 2, 3])"
      ]
     },
     "execution_count": 3,
     "metadata": {},
     "output_type": "execute_result"
    }
   ],
   "source": [
    "t = [1,2,3]\n",
    "vector = np.array(t)\n",
    "vector"
   ]
  },
  {
   "cell_type": "code",
   "execution_count": 4,
   "id": "97d0e197",
   "metadata": {},
   "outputs": [
    {
     "data": {
      "text/plain": [
       "0.6077840340681596"
      ]
     },
     "execution_count": 4,
     "metadata": {},
     "output_type": "execute_result"
    }
   ],
   "source": [
    "# Construiti un simulator de dat cu banul\n",
    "\n",
    "# Prima mea pacanea\n",
    "np.random.randint(low=0, high=2)\n",
    "\n",
    "# A doua mea pacanea\n",
    "np.random.choice(['CAP', 'PAJURA'])\n",
    "\n",
    "# A treia mea pacanea\n",
    "np.random.uniform()"
   ]
  },
  {
   "cell_type": "code",
   "execution_count": 5,
   "id": "b8f9c848",
   "metadata": {},
   "outputs": [
    {
     "data": {
      "text/plain": [
       "['CAP',\n",
       " 'PAJURA',\n",
       " 'PAJURA',\n",
       " 'CAP',\n",
       " 'CAP',\n",
       " 'PAJURA',\n",
       " 'PAJURA',\n",
       " 'CAP',\n",
       " 'CAP',\n",
       " 'PAJURA',\n",
       " 'PAJURA',\n",
       " 'CAP',\n",
       " 'CAP',\n",
       " 'PAJURA',\n",
       " 'CAP',\n",
       " 'CAP',\n",
       " 'CAP',\n",
       " 'PAJURA',\n",
       " 'PAJURA',\n",
       " 'PAJURA',\n",
       " 'PAJURA',\n",
       " 'PAJURA',\n",
       " 'CAP',\n",
       " 'CAP',\n",
       " 'CAP',\n",
       " 'PAJURA',\n",
       " 'PAJURA',\n",
       " 'PAJURA',\n",
       " 'CAP',\n",
       " 'PAJURA',\n",
       " 'CAP',\n",
       " 'PAJURA',\n",
       " 'CAP',\n",
       " 'PAJURA']"
      ]
     },
     "execution_count": 5,
     "metadata": {},
     "output_type": "execute_result"
    }
   ],
   "source": [
    "def SIMULATORUL(size=100, elemente=[\"CAP\", \"PAJURA\"]):\n",
    "    return [np.random.choice(elemente) for _ in range(size)]\n",
    "SIMULATORUL(34)"
   ]
  },
  {
   "cell_type": "code",
   "execution_count": 14,
   "id": "29e3ac2c",
   "metadata": {},
   "outputs": [],
   "source": [
    "def calculeaza_sansa_inatorul(lista_obs, interes=\"PAJURA\"):\n",
    "    calcul = [1 if obs == interes else 0 for obs in lista_obs]\n",
    "    print(sum(calcul)/len(calcul))"
   ]
  },
  {
   "cell_type": "code",
   "execution_count": 17,
   "id": "9ef52882",
   "metadata": {},
   "outputs": [
    {
     "name": "stdout",
     "output_type": "stream",
     "text": [
      "0.4796\n"
     ]
    }
   ],
   "source": [
    "obs = SIMULATORUL(5000)\n",
    "calculeaza_sansa_inatorul(obs, interes=\"CAP\")"
   ]
  }
 ],
 "metadata": {
  "kernelspec": {
   "display_name": "Python 3 (ipykernel)",
   "language": "python",
   "name": "python3"
  },
  "language_info": {
   "codemirror_mode": {
    "name": "ipython",
    "version": 3
   },
   "file_extension": ".py",
   "mimetype": "text/x-python",
   "name": "python",
   "nbconvert_exporter": "python",
   "pygments_lexer": "ipython3",
   "version": "3.9.12"
  }
 },
 "nbformat": 4,
 "nbformat_minor": 5
}
