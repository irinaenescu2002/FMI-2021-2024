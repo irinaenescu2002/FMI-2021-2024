{
 "cells": [
  {
   "cell_type": "code",
   "execution_count": 5,
   "id": "6045fc11",
   "metadata": {},
   "outputs": [],
   "source": [
    "# Distributii discrete \n",
    "\n",
    "import numpy as np\n",
    "import matplotlib.pyplot as plt\n",
    "from scipy.stats import binom\n",
    "\n",
    "def simuleaza_binom (n, p, no_obs):\n",
    "    return np.random.binomial(n, p, size = no_obs)\n",
    "\n",
    "# linspace() face o discretizare a unui interval (imparte intervalul cum vrem noi)\n",
    "\n",
    "def deseneaza_functia_de_masa_reala (n, p):\n",
    "    for i in range(1, n + 1):\n",
    "        domeniu = np.linspace(start = i, stop = i + 1)\n",
    "        val = [binom.pmf(n = n, p = p, k = i) for d in domeniu]\n",
    "        plt.plot(domeniu, val)\n",
    "    plt.show()"
   ]
  },
  {
   "cell_type": "code",
   "execution_count": 4,
   "id": "cf9332ce",
   "metadata": {},
   "outputs": [
    {
     "data": {
      "image/png": "[encoded data removed]",
      "text/plain": [
       "<Figure size 432x288 with 1 Axes>"
      ]
     },
     "metadata": {
      "needs_background": "light"
     },
     "output_type": "display_data"
    }
   ],
   "source": [
    "n = 10 \n",
    "p = 0.5\n",
    "deseneaza_functia_de_masa_reala(n = n, p = p)"
   ]
  },
  {
   "cell_type": "code",
   "execution_count": 10,
   "id": "57a9b29b",
   "metadata": {},
   "outputs": [
    {
     "data": {
      "image/png": "[encoded data removed]",
      "text/plain": [
       "<Figure size 432x288 with 1 Axes>"
      ]
     },
     "metadata": {
      "needs_background": "light"
     },
     "output_type": "display_data"
    }
   ],
   "source": [
    "obs = simuleaza_binom(n = n, p = p, no_obs = 1000)\n",
    "_ = plt.hist(obs,bins = 100)\n",
    "plt.show()"
   ]
  },
  {
   "cell_type": "code",
   "execution_count": 12,
   "id": "3a0df2a6",
   "metadata": {},
   "outputs": [
    {
     "data": {
      "text/plain": [
       "(array([4982., 5099., 4991., 5034., 5092., 5020., 4985., 4926., 4955.,\n",
       "        4991., 4999., 4964., 4981., 4926., 5027., 5027., 4981., 4913.,\n",
       "        5080., 5027.]),\n",
       " array([1.34573681e-05, 5.00126812e-02, 1.00011905e-01, 1.50011129e-01,\n",
       "        2.00010353e-01, 2.50009577e-01, 3.00008801e-01, 3.50008025e-01,\n",
       "        4.00007248e-01, 4.50006472e-01, 5.00005696e-01, 5.50004920e-01,\n",
       "        6.00004144e-01, 6.50003368e-01, 7.00002592e-01, 7.50001816e-01,\n",
       "        8.00001039e-01, 8.50000263e-01, 8.99999487e-01, 9.49998711e-01,\n",
       "        9.99997935e-01]),\n",
       " <BarContainer object of 20 artists>)"
      ]
     },
     "execution_count": 12,
     "metadata": {},
     "output_type": "execute_result"
    },
    {
     "data": {
      "image/png": "[encoded data removed]",
      "text/plain": [
       "<Figure size 432x288 with 1 Axes>"
      ]
     },
     "metadata": {
      "needs_background": "light"
     },
     "output_type": "display_data"
    }
   ],
   "source": [
    "uniform_samples = np.random.uniform(size = 100000)\n",
    "plt.hist(uniform_samples, bins = 20)"
   ]
  },
  {
   "cell_type": "code",
   "execution_count": 13,
   "id": "f946c8f3",
   "metadata": {},
   "outputs": [
    {
     "data": {
      "text/plain": [
       "(array([4.2787e+04, 2.4516e+04, 1.4065e+04, 7.9190e+03, 4.6430e+03,\n",
       "        2.5990e+03, 1.4770e+03, 8.6500e+02, 4.7700e+02, 2.6500e+02,\n",
       "        1.5400e+02, 1.0500e+02, 6.9000e+01, 2.3000e+01, 1.2000e+01,\n",
       "        1.0000e+01, 6.0000e+00, 2.0000e+00, 5.0000e+00, 1.0000e+00]),\n",
       " array([5.24005508e-06, 5.60114504e-01, 1.12022377e+00, 1.68033303e+00,\n",
       "        2.24044230e+00, 2.80055156e+00, 3.36066082e+00, 3.92077009e+00,\n",
       "        4.48087935e+00, 5.04098861e+00, 5.60109788e+00, 6.16120714e+00,\n",
       "        6.72131641e+00, 7.28142567e+00, 7.84153493e+00, 8.40164420e+00,\n",
       "        8.96175346e+00, 9.52186272e+00, 1.00819720e+01, 1.06420813e+01,\n",
       "        1.12021905e+01]),\n",
       " <BarContainer object of 20 artists>)"
      ]
     },
     "execution_count": 13,
     "metadata": {},
     "output_type": "execute_result"
    },
    {
     "data": {
      "image/png": "[encoded data removed]",
      "text/plain": [
       "<Figure size 432x288 with 1 Axes>"
      ]
     },
     "metadata": {
      "needs_background": "light"
     },
     "output_type": "display_data"
    }
   ],
   "source": [
    "uniform_samples = np.random.exponential(size = 100000)\n",
    "plt.hist(uniform_samples, bins = 20)"
   ]
  },
  {
   "cell_type": "code",
   "execution_count": null,
   "id": "e91908ea",
   "metadata": {},
   "outputs": [],
   "source": []
  }
 ],
 "metadata": {
  "kernelspec": {
   "display_name": "Python 3 (ipykernel)",
   "language": "python",
   "name": "python3"
  },
  "language_info": {
   "codemirror_mode": {
    "name": "ipython",
    "version": 3
   },
   "file_extension": ".py",
   "mimetype": "text/x-python",
   "name": "python",
   "nbconvert_exporter": "python",
   "pygments_lexer": "ipython3",
   "version": "3.9.12"
  }
 },
 "nbformat": 4,
 "nbformat_minor": 5
}
