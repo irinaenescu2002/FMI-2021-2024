{
 "cells": [
  {
   "cell_type": "code",
   "execution_count": 23,
   "id": "0a08acb8",
   "metadata": {},
   "outputs": [],
   "source": [
    "# Simulam orice distributie discreta\n",
    "\n",
    "import numpy as np\n",
    "\n",
    "def simuleaza_discret(x, p):\n",
    "    \n",
    "    # ne trebuie suma cumulativa (adunam toti termenii pana la ultimul)\n",
    "    cum_sum = np.cumsum(p)\n",
    "    \n",
    "    u = np.random.uniform()\n",
    "    \n",
    "    return np.argmax(u < cum_sum)\n",
    "        "
   ]
  },
  {
   "cell_type": "code",
   "execution_count": 26,
   "id": "39615091",
   "metadata": {},
   "outputs": [
    {
     "name": "stdout",
     "output_type": "stream",
     "text": [
      "0.115\n"
     ]
    }
   ],
   "source": [
    "p = [0.1, 0.2, 0.7]\n",
    "x = [0, 1, 2]\n",
    "obs = [simuleaza_discret(x, p) for i in range (1000)]\n",
    "\n",
    "from collections import Counter\n",
    "obs_counter = Counter(obs)\n",
    "\n",
    "print(obs_counter[0]/len(obs))"
   ]
  },
  {
   "cell_type": "code",
   "execution_count": 12,
   "id": "f5cae6b7",
   "metadata": {},
   "outputs": [
    {
     "name": "stdout",
     "output_type": "stream",
     "text": [
      "[0.1 0.3 1. ]\n",
      "[[0]]\n"
     ]
    }
   ],
   "source": [
    "p = [0.1, 0.2, 0.7]\n",
    "cum_sum = np.cumsum(p)\n",
    "print(cum_sum)\n",
    "print(np.argwhere(cum_sum < 0.2))"
   ]
  },
  {
   "cell_type": "code",
   "execution_count": 27,
   "id": "d95df6c6",
   "metadata": {},
   "outputs": [
    {
     "data": {
      "image/png": "[encoded data removed]",
      "text/plain": [
       "<Figure size 432x288 with 1 Axes>"
      ]
     },
     "metadata": {
      "needs_background": "light"
     },
     "output_type": "display_data"
    }
   ],
   "source": [
    "import matplotlib.pyplot as plt\n",
    "\n",
    "lamb = 2\n",
    "no_obs = 100\n",
    "obs_reale = [np.random.exponential(scale = 1/lamb) for i in range(no_obs)]\n",
    "args = plt.hist(obs_reale)"
   ]
  },
  {
   "cell_type": "code",
   "execution_count": 31,
   "id": "624fca1a",
   "metadata": {},
   "outputs": [
    {
     "data": {
      "text/plain": [
       "(array([28., 23.,  9., 16.,  4.,  9.,  4.,  2.,  2.,  3.]),\n",
       " array([0.01221499, 0.19756008, 0.38290517, 0.56825027, 0.75359536,\n",
       "        0.93894045, 1.12428554, 1.30963063, 1.49497572, 1.68032082,\n",
       "        1.86566591]),\n",
       " <BarContainer object of 10 artists>)"
      ]
     },
     "execution_count": 31,
     "metadata": {},
     "output_type": "execute_result"
    },
    {
     "data": {
      "image/png": "[encoded data removed]",
      "text/plain": [
       "<Figure size 432x288 with 1 Axes>"
      ]
     },
     "metadata": {
      "needs_background": "light"
     },
     "output_type": "display_data"
    }
   ],
   "source": [
    "def inverse_cdf(y, lamb):\n",
    "    return np.log(1-y)/(-1*lamb)\n",
    "\n",
    "obs_simulate = [inverse_cdf(np.random.uniform(), lamb) for i in range(no_obs)]\n",
    "plt.hist(obs_simulate)"
   ]
  },
  {
   "cell_type": "code",
   "execution_count": 38,
   "id": "7ddb1e70",
   "metadata": {},
   "outputs": [],
   "source": [
    "def F_exp(x, lamb):\n",
    "    return 1 - np.exp(-1*x*lamb)\n",
    "\n",
    "def experiment_F(no_obsm, lamb):\n",
    "    vals = [F_exp(np.random.exponential(scale=1/lamb), lamb) for i in range(no_obs)]\n",
    "    plt.hist(vals)\n",
    "    plt.show()"
   ]
  },
  {
   "cell_type": "code",
   "execution_count": 39,
   "id": "9bccb4e1",
   "metadata": {},
   "outputs": [
    {
     "data": {
      "image/png": "[encoded data removed]",
      "text/plain": [
       "<Figure size 432x288 with 1 Axes>"
      ]
     },
     "metadata": {
      "needs_background": "light"
     },
     "output_type": "display_data"
    }
   ],
   "source": [
    "experiment_F(1000, 2)\n",
    "\n",
    "# --> seamana cu o uniforma "
   ]
  }
 ],
 "metadata": {
  "kernelspec": {
   "display_name": "Python 3 (ipykernel)",
   "language": "python",
   "name": "python3"
  },
  "language_info": {
   "codemirror_mode": {
    "name": "ipython",
    "version": 3
   },
   "file_extension": ".py",
   "mimetype": "text/x-python",
   "name": "python",
   "nbconvert_exporter": "python",
   "pygments_lexer": "ipython3",
   "version": "3.9.12"
  }
 },
 "nbformat": 4,
 "nbformat_minor": 5
}
